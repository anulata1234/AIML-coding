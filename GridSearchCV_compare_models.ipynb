{
 "cells": [
  {
   "cell_type": "code",
   "execution_count": 9,
   "metadata": {
    "colab": {},
    "colab_type": "code",
    "id": "IFbS_pvnZpAf"
   },
   "outputs": [],
   "source": [
    "#importing modules\n",
    "import numpy as np \n",
    "import pandas as pd "
   ]
  },
  {
   "cell_type": "code",
   "execution_count": 4,
   "metadata": {
    "colab": {
     "base_uri": "https://localhost:8080/",
     "height": 55
    },
    "colab_type": "code",
    "executionInfo": {
     "elapsed": 1555,
     "status": "ok",
     "timestamp": 1561076420795,
     "user": {
      "displayName": "Mahesh Anand",
      "photoUrl": "https://lh3.googleusercontent.com/-qzo_AFAl02k/AAAAAAAAAAI/AAAAAAAAABY/Ywj2vXZmRw4/s64/photo.jpg",
      "userId": "06788086636039591358"
     },
     "user_tz": -330
    },
    "id": "eg_PK7q4Zyab",
    "outputId": "9cc87395-f769-4180-d7a5-60dd767ccbce"
   },
   "outputs": [],
   "source": [
    "#from google.colab import drive\n",
    "#drive.mount('/content/drive')"
   ]
  },
  {
   "cell_type": "code",
   "execution_count": 11,
   "metadata": {
    "colab": {},
    "colab_type": "code",
    "id": "XYShcfBZZzUB"
   },
   "outputs": [],
   "source": [
    "#loading datasets\n",
    "data = pd.read_csv(\"wisc_bc_data.csv\")"
   ]
  },
  {
   "cell_type": "code",
   "execution_count": 12,
   "metadata": {
    "colab": {},
    "colab_type": "code",
    "id": "-AYzUYzWZpAw",
    "outputId": "7a8db3ab-7246-490f-f237-7253716c2031"
   },
   "outputs": [
    {
     "name": "stdout",
     "output_type": "stream",
     "text": [
      "<class 'pandas.core.frame.DataFrame'>\n",
      "RangeIndex: 569 entries, 0 to 568\n",
      "Data columns (total 32 columns):\n",
      "id                   569 non-null int64\n",
      "diagnosis            569 non-null object\n",
      "radius_mean          569 non-null float64\n",
      "texture_mean         569 non-null float64\n",
      "perimeter_mean       569 non-null float64\n",
      "area_mean            569 non-null float64\n",
      "smoothness_mean      569 non-null float64\n",
      "compactness_mean     569 non-null float64\n",
      "concavity_mean       569 non-null float64\n",
      "points_mean          569 non-null float64\n",
      "symmetry_mean        569 non-null float64\n",
      "dimension_mean       569 non-null float64\n",
      "radius_se            569 non-null float64\n",
      "texture_se           569 non-null float64\n",
      "perimeter_se         569 non-null float64\n",
      "area_se              569 non-null float64\n",
      "smoothness_se        569 non-null float64\n",
      "compactness_se       569 non-null float64\n",
      "concavity_se         569 non-null float64\n",
      "points_se            569 non-null float64\n",
      "symmetry_se          569 non-null float64\n",
      "dimension_se         569 non-null float64\n",
      "radius_worst         569 non-null float64\n",
      "texture_worst        569 non-null float64\n",
      "perimeter_worst      569 non-null float64\n",
      "area_worst           569 non-null float64\n",
      "smoothness_worst     569 non-null float64\n",
      "compactness_worst    569 non-null float64\n",
      "concavity_worst      569 non-null float64\n",
      "points_worst         569 non-null float64\n",
      "symmetry_worst       569 non-null float64\n",
      "dimension_worst      569 non-null float64\n",
      "dtypes: float64(30), int64(1), object(1)\n",
      "memory usage: 142.3+ KB\n"
     ]
    }
   ],
   "source": [
    "data.info()"
   ]
  },
  {
   "cell_type": "code",
   "execution_count": 13,
   "metadata": {
    "colab": {},
    "colab_type": "code",
    "id": "qgU8hg__ZpA_"
   },
   "outputs": [],
   "source": [
    "#deleting useless columns\n",
    "#deleting the \"id\" column\n",
    "data.drop(\"id\",axis=1,inplace=True)\n"
   ]
  },
  {
   "cell_type": "code",
   "execution_count": 0,
   "metadata": {
    "colab": {},
    "colab_type": "code",
    "id": "X77AXhlRZpBH",
    "outputId": "f8be4fcc-0c2e-4233-8ccc-28bbc2d183df"
   },
   "outputs": [
    {
     "name": "stdout",
     "output_type": "stream",
     "text": [
      "<class 'pandas.core.frame.DataFrame'>\n",
      "RangeIndex: 569 entries, 0 to 568\n",
      "Data columns (total 31 columns):\n",
      "diagnosis            569 non-null object\n",
      "radius_mean          569 non-null float64\n",
      "texture_mean         569 non-null float64\n",
      "perimeter_mean       569 non-null float64\n",
      "area_mean            569 non-null float64\n",
      "smoothness_mean      569 non-null float64\n",
      "compactness_mean     569 non-null float64\n",
      "concavity_mean       569 non-null float64\n",
      "points_mean          569 non-null float64\n",
      "symmetry_mean        569 non-null float64\n",
      "dimension_mean       569 non-null float64\n",
      "radius_se            569 non-null float64\n",
      "texture_se           569 non-null float64\n",
      "perimeter_se         569 non-null float64\n",
      "area_se              569 non-null float64\n",
      "smoothness_se        569 non-null float64\n",
      "compactness_se       569 non-null float64\n",
      "concavity_se         569 non-null float64\n",
      "points_se            569 non-null float64\n",
      "symmetry_se          569 non-null float64\n",
      "dimension_se         569 non-null float64\n",
      "radius_worst         569 non-null float64\n",
      "texture_worst        569 non-null float64\n",
      "perimeter_worst      569 non-null float64\n",
      "area_worst           569 non-null float64\n",
      "smoothness_worst     569 non-null float64\n",
      "compactness_worst    569 non-null float64\n",
      "concavity_worst      569 non-null float64\n",
      "points_worst         569 non-null float64\n",
      "symmetry_worst       569 non-null float64\n",
      "dimension_worst      569 non-null float64\n",
      "dtypes: float64(30), object(1)\n",
      "memory usage: 137.9+ KB\n"
     ]
    }
   ],
   "source": [
    "#the result\n",
    "data.info()"
   ]
  },
  {
   "cell_type": "code",
   "execution_count": 16,
   "metadata": {
    "colab": {},
    "colab_type": "code",
    "id": "v5VcvNB3ZpBS",
    "outputId": "09799637-edd1-46db-d840-c2b3814f6103"
   },
   "outputs": [
    {
     "data": {
      "text/plain": [
       "B    357\n",
       "M    212\n",
       "Name: diagnosis, dtype: int64"
      ]
     },
     "execution_count": 16,
     "metadata": {},
     "output_type": "execute_result"
    }
   ],
   "source": [
    "data.head(5)\n",
    "data.diagnosis.value_counts()\n"
   ]
  },
  {
   "cell_type": "code",
   "execution_count": 15,
   "metadata": {
    "colab": {},
    "colab_type": "code",
    "id": "k7-s6niuZpBc",
    "outputId": "fdf777a8-05c4-4a68-d4bd-94a1e7851838"
   },
   "outputs": [
    {
     "data": {
      "text/html": [
       "<div>\n",
       "<style scoped>\n",
       "    .dataframe tbody tr th:only-of-type {\n",
       "        vertical-align: middle;\n",
       "    }\n",
       "\n",
       "    .dataframe tbody tr th {\n",
       "        vertical-align: top;\n",
       "    }\n",
       "\n",
       "    .dataframe thead th {\n",
       "        text-align: right;\n",
       "    }\n",
       "</style>\n",
       "<table border=\"1\" class=\"dataframe\">\n",
       "  <thead>\n",
       "    <tr style=\"text-align: right;\">\n",
       "      <th></th>\n",
       "      <th>diagnosis</th>\n",
       "      <th>radius_mean</th>\n",
       "      <th>texture_mean</th>\n",
       "      <th>perimeter_mean</th>\n",
       "      <th>area_mean</th>\n",
       "      <th>smoothness_mean</th>\n",
       "      <th>compactness_mean</th>\n",
       "      <th>concavity_mean</th>\n",
       "      <th>points_mean</th>\n",
       "      <th>symmetry_mean</th>\n",
       "      <th>...</th>\n",
       "      <th>radius_worst</th>\n",
       "      <th>texture_worst</th>\n",
       "      <th>perimeter_worst</th>\n",
       "      <th>area_worst</th>\n",
       "      <th>smoothness_worst</th>\n",
       "      <th>compactness_worst</th>\n",
       "      <th>concavity_worst</th>\n",
       "      <th>points_worst</th>\n",
       "      <th>symmetry_worst</th>\n",
       "      <th>dimension_worst</th>\n",
       "    </tr>\n",
       "  </thead>\n",
       "  <tbody>\n",
       "    <tr>\n",
       "      <th>0</th>\n",
       "      <td>B</td>\n",
       "      <td>12.32</td>\n",
       "      <td>12.39</td>\n",
       "      <td>78.85</td>\n",
       "      <td>464.1</td>\n",
       "      <td>0.10280</td>\n",
       "      <td>0.06981</td>\n",
       "      <td>0.03987</td>\n",
       "      <td>0.03700</td>\n",
       "      <td>0.1959</td>\n",
       "      <td>...</td>\n",
       "      <td>13.50</td>\n",
       "      <td>15.64</td>\n",
       "      <td>86.97</td>\n",
       "      <td>549.1</td>\n",
       "      <td>0.1385</td>\n",
       "      <td>0.1266</td>\n",
       "      <td>0.12420</td>\n",
       "      <td>0.09391</td>\n",
       "      <td>0.2827</td>\n",
       "      <td>0.06771</td>\n",
       "    </tr>\n",
       "    <tr>\n",
       "      <th>1</th>\n",
       "      <td>B</td>\n",
       "      <td>10.60</td>\n",
       "      <td>18.95</td>\n",
       "      <td>69.28</td>\n",
       "      <td>346.4</td>\n",
       "      <td>0.09688</td>\n",
       "      <td>0.11470</td>\n",
       "      <td>0.06387</td>\n",
       "      <td>0.02642</td>\n",
       "      <td>0.1922</td>\n",
       "      <td>...</td>\n",
       "      <td>11.88</td>\n",
       "      <td>22.94</td>\n",
       "      <td>78.28</td>\n",
       "      <td>424.8</td>\n",
       "      <td>0.1213</td>\n",
       "      <td>0.2515</td>\n",
       "      <td>0.19160</td>\n",
       "      <td>0.07926</td>\n",
       "      <td>0.2940</td>\n",
       "      <td>0.07587</td>\n",
       "    </tr>\n",
       "    <tr>\n",
       "      <th>2</th>\n",
       "      <td>B</td>\n",
       "      <td>11.04</td>\n",
       "      <td>16.83</td>\n",
       "      <td>70.92</td>\n",
       "      <td>373.2</td>\n",
       "      <td>0.10770</td>\n",
       "      <td>0.07804</td>\n",
       "      <td>0.03046</td>\n",
       "      <td>0.02480</td>\n",
       "      <td>0.1714</td>\n",
       "      <td>...</td>\n",
       "      <td>12.41</td>\n",
       "      <td>26.44</td>\n",
       "      <td>79.93</td>\n",
       "      <td>471.4</td>\n",
       "      <td>0.1369</td>\n",
       "      <td>0.1482</td>\n",
       "      <td>0.10670</td>\n",
       "      <td>0.07431</td>\n",
       "      <td>0.2998</td>\n",
       "      <td>0.07881</td>\n",
       "    </tr>\n",
       "    <tr>\n",
       "      <th>3</th>\n",
       "      <td>B</td>\n",
       "      <td>11.28</td>\n",
       "      <td>13.39</td>\n",
       "      <td>73.00</td>\n",
       "      <td>384.8</td>\n",
       "      <td>0.11640</td>\n",
       "      <td>0.11360</td>\n",
       "      <td>0.04635</td>\n",
       "      <td>0.04796</td>\n",
       "      <td>0.1771</td>\n",
       "      <td>...</td>\n",
       "      <td>11.92</td>\n",
       "      <td>15.77</td>\n",
       "      <td>76.53</td>\n",
       "      <td>434.0</td>\n",
       "      <td>0.1367</td>\n",
       "      <td>0.1822</td>\n",
       "      <td>0.08669</td>\n",
       "      <td>0.08611</td>\n",
       "      <td>0.2102</td>\n",
       "      <td>0.06784</td>\n",
       "    </tr>\n",
       "    <tr>\n",
       "      <th>4</th>\n",
       "      <td>B</td>\n",
       "      <td>15.19</td>\n",
       "      <td>13.21</td>\n",
       "      <td>97.65</td>\n",
       "      <td>711.8</td>\n",
       "      <td>0.07963</td>\n",
       "      <td>0.06934</td>\n",
       "      <td>0.03393</td>\n",
       "      <td>0.02657</td>\n",
       "      <td>0.1721</td>\n",
       "      <td>...</td>\n",
       "      <td>16.20</td>\n",
       "      <td>15.73</td>\n",
       "      <td>104.50</td>\n",
       "      <td>819.1</td>\n",
       "      <td>0.1126</td>\n",
       "      <td>0.1737</td>\n",
       "      <td>0.13620</td>\n",
       "      <td>0.08178</td>\n",
       "      <td>0.2487</td>\n",
       "      <td>0.06766</td>\n",
       "    </tr>\n",
       "  </tbody>\n",
       "</table>\n",
       "<p>5 rows × 31 columns</p>\n",
       "</div>"
      ],
      "text/plain": [
       "  diagnosis  radius_mean  texture_mean  perimeter_mean  area_mean  \\\n",
       "0         B        12.32         12.39           78.85      464.1   \n",
       "1         B        10.60         18.95           69.28      346.4   \n",
       "2         B        11.04         16.83           70.92      373.2   \n",
       "3         B        11.28         13.39           73.00      384.8   \n",
       "4         B        15.19         13.21           97.65      711.8   \n",
       "\n",
       "   smoothness_mean  compactness_mean  concavity_mean  points_mean  \\\n",
       "0          0.10280           0.06981         0.03987      0.03700   \n",
       "1          0.09688           0.11470         0.06387      0.02642   \n",
       "2          0.10770           0.07804         0.03046      0.02480   \n",
       "3          0.11640           0.11360         0.04635      0.04796   \n",
       "4          0.07963           0.06934         0.03393      0.02657   \n",
       "\n",
       "   symmetry_mean       ...         radius_worst  texture_worst  \\\n",
       "0         0.1959       ...                13.50          15.64   \n",
       "1         0.1922       ...                11.88          22.94   \n",
       "2         0.1714       ...                12.41          26.44   \n",
       "3         0.1771       ...                11.92          15.77   \n",
       "4         0.1721       ...                16.20          15.73   \n",
       "\n",
       "   perimeter_worst  area_worst  smoothness_worst  compactness_worst  \\\n",
       "0            86.97       549.1            0.1385             0.1266   \n",
       "1            78.28       424.8            0.1213             0.2515   \n",
       "2            79.93       471.4            0.1369             0.1482   \n",
       "3            76.53       434.0            0.1367             0.1822   \n",
       "4           104.50       819.1            0.1126             0.1737   \n",
       "\n",
       "   concavity_worst  points_worst  symmetry_worst  dimension_worst  \n",
       "0          0.12420       0.09391          0.2827          0.06771  \n",
       "1          0.19160       0.07926          0.2940          0.07587  \n",
       "2          0.10670       0.07431          0.2998          0.07881  \n",
       "3          0.08669       0.08611          0.2102          0.06784  \n",
       "4          0.13620       0.08178          0.2487          0.06766  \n",
       "\n",
       "[5 rows x 31 columns]"
      ]
     },
     "execution_count": 15,
     "metadata": {},
     "output_type": "execute_result"
    }
   ],
   "source": [
    "data.head()"
   ]
  },
  {
   "cell_type": "code",
   "execution_count": 17,
   "metadata": {
    "colab": {},
    "colab_type": "code",
    "id": "t5KDGIiwZpBp"
   },
   "outputs": [],
   "source": [
    "#finished the dataset preprocessing\n",
    "#splitting dataset into training one and testing one\n",
    "from sklearn.model_selection import train_test_split\n",
    "train, test = train_test_split(data, test_size = 0.3,random_state=2)"
   ]
  },
  {
   "cell_type": "code",
   "execution_count": 0,
   "metadata": {
    "colab": {},
    "colab_type": "code",
    "id": "AxEJd6NTZpBx",
    "outputId": "d3566161-3ccd-45d3-f671-67fb31ad7cc4"
   },
   "outputs": [
    {
     "name": "stdout",
     "output_type": "stream",
     "text": [
      "(398, 31)\n",
      "(171, 31)\n"
     ]
    }
   ],
   "source": [
    "#finding out the results\n",
    "print(train.shape)\n",
    "print(test.shape)"
   ]
  },
  {
   "cell_type": "code",
   "execution_count": 18,
   "metadata": {
    "colab": {},
    "colab_type": "code",
    "id": "qmMwK1DzZpB6"
   },
   "outputs": [],
   "source": [
    "#making independent variables for training\n",
    "train_X = train.iloc[:, 1:31]\n",
    "#making responsible variables for training\n",
    "train_y=train.diagnosis\n",
    "#making independent variables for testing\n",
    "test_X= test.iloc[:, 1:31]\n",
    "#making responsible variables for testing\n",
    "test_y =test.diagnosis#finding out the results\n"
   ]
  },
  {
   "cell_type": "code",
   "execution_count": 19,
   "metadata": {
    "colab": {},
    "colab_type": "code",
    "id": "vqwLn-woZpCC",
    "outputId": "814cb6d4-9dde-443c-95b3-78ca37e3a839"
   },
   "outputs": [
    {
     "name": "stdout",
     "output_type": "stream",
     "text": [
      "(398, 30)\n",
      "(398,)\n",
      "(171, 30)\n",
      "(171,)\n"
     ]
    }
   ],
   "source": [
    "print(train_X.shape)\n",
    "print(train_y.shape)\n",
    "print(test_X.shape)\n",
    "print(test_y.shape)"
   ]
  },
  {
   "cell_type": "code",
   "execution_count": 0,
   "metadata": {
    "colab": {},
    "colab_type": "code",
    "id": "3lKjwP2JZpCN",
    "outputId": "d5850018-a85b-4ce5-cab6-bdef3b433bef"
   },
   "outputs": [
    {
     "name": "stdout",
     "output_type": "stream",
     "text": [
      "Accuracy: 0.935672514619883\n",
      "Confusion Metrix:\n",
      " [[98  9]\n",
      " [ 2 62]]\n"
     ]
    },
    {
     "name": "stderr",
     "output_type": "stream",
     "text": [
      "/usr/local/anaconda/python3/lib/python3.6/site-packages/sklearn/ensemble/forest.py:246: FutureWarning: The default value of n_estimators will change from 10 in version 0.20 to 100 in 0.22.\n",
      "  \"10 in version 0.20 to 100 in 0.22.\", FutureWarning)\n"
     ]
    }
   ],
   "source": [
    "#Without Hyper Parameters Tuning\n",
    "#Randomforest\n",
    "#importing module\n",
    "from sklearn.ensemble import RandomForestClassifier\n",
    "#making the instance\n",
    "model=RandomForestClassifier(random_state=123)\n",
    "#learning\n",
    "model.fit(train_X,train_y)\n",
    "#Prediction\n",
    "prediction=model.predict(test_X)\n",
    "#importing the metrics module\n",
    "from sklearn import metrics\n",
    "#evaluation(Accuracy)\n",
    "print(\"Accuracy:\",metrics.accuracy_score(prediction,test_y))\n",
    "#evaluation(Confusion Metrix)\n",
    "print(\"Confusion Metrix:\\n\",metrics.confusion_matrix(prediction,test_y))"
   ]
  },
  {
   "cell_type": "code",
   "execution_count": 22,
   "metadata": {
    "colab": {},
    "colab_type": "code",
    "id": "X6TZXtleZpCW",
    "outputId": "b2f340ed-616d-48c9-e8ec-a9e9b98e803c"
   },
   "outputs": [
    {
     "name": "stdout",
     "output_type": "stream",
     "text": [
      "Accuracy: 0.5847953216374269\n",
      "Confusion Metrix:\n",
      " [[100  71]\n",
      " [  0   0]]\n"
     ]
    },
    {
     "name": "stderr",
     "output_type": "stream",
     "text": [
      "C:\\Users\\anusingh\\Anaconda3\\lib\\site-packages\\sklearn\\svm\\base.py:196: FutureWarning: The default value of gamma will change from 'auto' to 'scale' in version 0.22 to account better for unscaled features. Set gamma explicitly to 'auto' or 'scale' to avoid this warning.\n",
      "  \"avoid this warning.\", FutureWarning)\n"
     ]
    }
   ],
   "source": [
    "#Without Hyper Parameters Tuning\n",
    "#SVM\n",
    "#importing module\n",
    "from sklearn import svm\n",
    "#making the instance\n",
    "model = svm.SVC(random_state=123)\n",
    "#learning\n",
    "model.fit(train_X,train_y)\n",
    "#Prediction\n",
    "prediction=model.predict(test_X)\n",
    "#importing the metrics module\n",
    "from sklearn import metrics\n",
    "#evaluation(Accuracy)\n",
    "print(\"Accuracy:\",metrics.accuracy_score(prediction,test_y))\n",
    "#evaluation(Confusion Metrix)\n",
    "print(\"Confusion Metrix:\\n\",metrics.confusion_matrix(prediction,test_y))"
   ]
  },
  {
   "cell_type": "code",
   "execution_count": 21,
   "metadata": {
    "colab": {},
    "colab_type": "code",
    "id": "Xomt0te4ZpCd",
    "outputId": "a1e796df-1f8f-4f9a-cdd6-c7e516e3f488"
   },
   "outputs": [
    {
     "name": "stdout",
     "output_type": "stream",
     "text": [
      "Accuracy: 0.9064327485380117\n",
      "Confusion Matrix:\n",
      " [[96 12]\n",
      " [ 4 59]]\n"
     ]
    }
   ],
   "source": [
    "#Without Hyper Parameters Tuning\n",
    "#kNearestNeighbors\n",
    "#importing module\n",
    "from sklearn.neighbors import KNeighborsClassifier\n",
    "#making the instance\n",
    "model = KNeighborsClassifier()\n",
    "#learning\n",
    "model.fit(train_X,train_y)\n",
    "#Prediction\n",
    "prediction=model.predict(test_X)\n",
    "#importing the metrics module\n",
    "from sklearn import metrics\n",
    "#evaluation(Accuracy)\n",
    "print(\"Accuracy:\",metrics.accuracy_score(prediction,test_y))\n",
    "#evaluation(Confusion Metrix)\n",
    "print(\"Confusion Matrix:\\n\",metrics.confusion_matrix(prediction,test_y))"
   ]
  },
  {
   "cell_type": "code",
   "execution_count": 23,
   "metadata": {
    "colab": {},
    "colab_type": "code",
    "id": "lwQHIT54ZpCl",
    "outputId": "c119f4e2-e680-43b3-f596-2e7ac02c943c"
   },
   "outputs": [
    {
     "name": "stdout",
     "output_type": "stream",
     "text": [
      "Best Hyper Parameters:\n",
      " {'criterion': 'gini', 'min_samples_leaf': 2, 'min_samples_split': 4, 'n_estimators': 20}\n",
      "Accuracy: 0.9590643274853801\n",
      "Confusion Metrix:\n",
      " [[98  5]\n",
      " [ 2 66]]\n"
     ]
    },
    {
     "name": "stderr",
     "output_type": "stream",
     "text": [
      "C:\\Users\\anusingh\\Anaconda3\\lib\\site-packages\\sklearn\\model_selection\\_search.py:841: DeprecationWarning: The default of the `iid` parameter will change from True to False in version 0.22 and will be removed in 0.24. This will change numeric results when test-set sizes are unequal.\n",
      "  DeprecationWarning)\n"
     ]
    }
   ],
   "source": [
    "#With Hyper Parameters Tuning\n",
    "#Randomforest\n",
    "#importing modules\n",
    "from sklearn.model_selection import GridSearchCV\n",
    "from sklearn.ensemble import RandomForestClassifier\n",
    "#making the instance\n",
    "model=RandomForestClassifier()\n",
    "#hyper parameters set\n",
    "params = {'criterion':['gini','entropy'],\n",
    "          'n_estimators':[10,15,20,25,30],\n",
    "          'min_samples_leaf':[1,2,3],\n",
    "          'min_samples_split':[3,4,5,6,7]}\n",
    "#Making models with hyper parameters sets\n",
    "model1 = GridSearchCV(model, param_grid=params, cv=5)\n",
    "#learning\n",
    "model1.fit(train_X,train_y)\n",
    "#The best hyper parameters set\n",
    "print(\"Best Hyper Parameters:\\n\",model1.best_params_)\n",
    "#Prediction\n",
    "prediction=model1.predict(test_X)\n",
    "#importing the metrics module\n",
    "from sklearn import metrics\n",
    "#evaluation(Accuracy)\n",
    "print(\"Accuracy:\",metrics.accuracy_score(prediction,test_y))\n",
    "#evaluation(Confusion Metrix)\n",
    "print(\"Confusion Metrix:\\n\",metrics.confusion_matrix(prediction,test_y))\n",
    "\n",
    "\n"
   ]
  },
  {
   "cell_type": "code",
   "execution_count": 24,
   "metadata": {
    "colab": {},
    "colab_type": "code",
    "id": "VMZivPdJZpCs",
    "outputId": "034a6b72-82ff-4120-fc1c-a3380f4343ef"
   },
   "outputs": [
    {
     "name": "stdout",
     "output_type": "stream",
     "text": [
      "Best Hyper Parameters:\n",
      " {'C': 11, 'kernel': 'linear'}\n",
      "Accuracy: 0.9649122807017544\n",
      "Confusion Matrix:\n",
      " [[98  4]\n",
      " [ 2 67]]\n"
     ]
    }
   ],
   "source": [
    "#With Hyper Parameters Tuning\n",
    "#SVM\n",
    "#importing modules\n",
    "from sklearn.model_selection import GridSearchCV\n",
    "from sklearn import svm\n",
    "#making the instance\n",
    "model=svm.SVC()\n",
    "#Hyper Parameters Set\n",
    "params = {'C': [6,7,8,9,10,11,12], \n",
    "          'kernel': ['linear','rbf']}\n",
    "#Making models with hyper parameters sets\n",
    "model1 = GridSearchCV(model, param_grid=params, cv=10,n_jobs=-1)\n",
    "#Learning\n",
    "model1.fit(train_X,train_y)\n",
    "#The best hyper parameters set\n",
    "print(\"Best Hyper Parameters:\\n\",model1.best_params_)\n",
    "#Prediction\n",
    "prediction=model1.predict(test_X)\n",
    "#importing the metrics module\n",
    "from sklearn import metrics\n",
    "#evaluation(Accuracy)\n",
    "print(\"Accuracy:\",metrics.accuracy_score(prediction,test_y))\n",
    "#evaluation(Confusion Metrix)\n",
    "print(\"Confusion Matrix:\\n\",metrics.confusion_matrix(prediction,test_y))\n"
   ]
  },
  {
   "cell_type": "code",
   "execution_count": 0,
   "metadata": {
    "colab": {},
    "colab_type": "code",
    "id": "ha5twaWXZpC2",
    "outputId": "614e3f5f-0915-4258-91a6-a8b2bf1c1aa6"
   },
   "outputs": [
    {
     "name": "stdout",
     "output_type": "stream",
     "text": [
      "Best Hyper Parameters:\n",
      " {'n_neighbors': 5, 'weights': 'uniform'}\n",
      "Accuracy: 0.9064327485380117\n",
      "Confusion Metrix:\n",
      " [[96 12]\n",
      " [ 4 59]]\n"
     ]
    }
   ],
   "source": [
    "#With Hyper Parameters Tuning\n",
    "#2-4,kNearestNeighbors\n",
    "#importing modules\n",
    "from sklearn.model_selection import GridSearchCV\n",
    "from sklearn.neighbors import KNeighborsClassifier\n",
    "#making the instance\n",
    "model = KNeighborsClassifier(n_jobs=-1)\n",
    "#Hyper Parameters Set\n",
    "params = {'n_neighbors':[5,7,9,11,13,15],'weights':['uniform', 'distance']}\n",
    "#Making models with hyper parameters sets\n",
    "model1 = GridSearchCV(model, param_grid=params, cv=10,n_jobs=-1)\n",
    "#Learning\n",
    "model1.fit(train_X,train_y)\n",
    "#The best hyper parameters set\n",
    "print(\"Best Hyper Parameters:\\n\",model1.best_params_)\n",
    "#Prediction\n",
    "prediction=model1.predict(test_X)\n",
    "#importing the metrics module\n",
    "from sklearn import metrics\n",
    "#evaluation(Accuracy)\n",
    "print(\"Accuracy:\",metrics.accuracy_score(prediction,test_y))\n",
    "#evaluation(Confusion Metrix)\n",
    "print(\"Confusion Metrix:\\n\",metrics.confusion_matrix(prediction,test_y))"
   ]
  },
  {
   "cell_type": "code",
   "execution_count": 26,
   "metadata": {},
   "outputs": [
    {
     "name": "stderr",
     "output_type": "stream",
     "text": [
      "C:\\Users\\anusingh\\Anaconda3\\lib\\site-packages\\sklearn\\utils\\deprecation.py:125: FutureWarning: You are accessing a training score ('split0_train_score'), which will not be available by default any more in 0.21. If you need training scores, please set return_train_score=True\n",
      "  warnings.warn(*warn_args, **warn_kwargs)\n",
      "C:\\Users\\anusingh\\Anaconda3\\lib\\site-packages\\sklearn\\utils\\deprecation.py:125: FutureWarning: You are accessing a training score ('split1_train_score'), which will not be available by default any more in 0.21. If you need training scores, please set return_train_score=True\n",
      "  warnings.warn(*warn_args, **warn_kwargs)\n",
      "C:\\Users\\anusingh\\Anaconda3\\lib\\site-packages\\sklearn\\utils\\deprecation.py:125: FutureWarning: You are accessing a training score ('split2_train_score'), which will not be available by default any more in 0.21. If you need training scores, please set return_train_score=True\n",
      "  warnings.warn(*warn_args, **warn_kwargs)\n",
      "C:\\Users\\anusingh\\Anaconda3\\lib\\site-packages\\sklearn\\utils\\deprecation.py:125: FutureWarning: You are accessing a training score ('split3_train_score'), which will not be available by default any more in 0.21. If you need training scores, please set return_train_score=True\n",
      "  warnings.warn(*warn_args, **warn_kwargs)\n",
      "C:\\Users\\anusingh\\Anaconda3\\lib\\site-packages\\sklearn\\utils\\deprecation.py:125: FutureWarning: You are accessing a training score ('split4_train_score'), which will not be available by default any more in 0.21. If you need training scores, please set return_train_score=True\n",
      "  warnings.warn(*warn_args, **warn_kwargs)\n",
      "C:\\Users\\anusingh\\Anaconda3\\lib\\site-packages\\sklearn\\utils\\deprecation.py:125: FutureWarning: You are accessing a training score ('split5_train_score'), which will not be available by default any more in 0.21. If you need training scores, please set return_train_score=True\n",
      "  warnings.warn(*warn_args, **warn_kwargs)\n",
      "C:\\Users\\anusingh\\Anaconda3\\lib\\site-packages\\sklearn\\utils\\deprecation.py:125: FutureWarning: You are accessing a training score ('split6_train_score'), which will not be available by default any more in 0.21. If you need training scores, please set return_train_score=True\n",
      "  warnings.warn(*warn_args, **warn_kwargs)\n",
      "C:\\Users\\anusingh\\Anaconda3\\lib\\site-packages\\sklearn\\utils\\deprecation.py:125: FutureWarning: You are accessing a training score ('split7_train_score'), which will not be available by default any more in 0.21. If you need training scores, please set return_train_score=True\n",
      "  warnings.warn(*warn_args, **warn_kwargs)\n",
      "C:\\Users\\anusingh\\Anaconda3\\lib\\site-packages\\sklearn\\utils\\deprecation.py:125: FutureWarning: You are accessing a training score ('split8_train_score'), which will not be available by default any more in 0.21. If you need training scores, please set return_train_score=True\n",
      "  warnings.warn(*warn_args, **warn_kwargs)\n",
      "C:\\Users\\anusingh\\Anaconda3\\lib\\site-packages\\sklearn\\utils\\deprecation.py:125: FutureWarning: You are accessing a training score ('split9_train_score'), which will not be available by default any more in 0.21. If you need training scores, please set return_train_score=True\n",
      "  warnings.warn(*warn_args, **warn_kwargs)\n",
      "C:\\Users\\anusingh\\Anaconda3\\lib\\site-packages\\sklearn\\utils\\deprecation.py:125: FutureWarning: You are accessing a training score ('mean_train_score'), which will not be available by default any more in 0.21. If you need training scores, please set return_train_score=True\n",
      "  warnings.warn(*warn_args, **warn_kwargs)\n",
      "C:\\Users\\anusingh\\Anaconda3\\lib\\site-packages\\sklearn\\utils\\deprecation.py:125: FutureWarning: You are accessing a training score ('std_train_score'), which will not be available by default any more in 0.21. If you need training scores, please set return_train_score=True\n",
      "  warnings.warn(*warn_args, **warn_kwargs)\n"
     ]
    },
    {
     "data": {
      "text/plain": [
       "{'mean_fit_time': array([10.17083745,  0.04266622, 10.09827728,  0.04058008, 12.47588062,\n",
       "         0.04011889,  8.80333824,  0.03876634, 10.52066119,  0.03519909,\n",
       "        10.32637403,  0.05046258,  9.56610024,  0.03806031]),\n",
       " 'std_fit_time': array([5.16154480e+00, 4.82937374e-03, 5.28783327e+00, 3.09466012e-03,\n",
       "        6.64998076e+00, 4.02499102e-03, 3.26858836e+00, 2.52728678e-03,\n",
       "        4.78567339e+00, 7.44865883e-03, 3.71233815e+00, 1.15031052e-02,\n",
       "        3.85626506e+00, 1.92531290e-03]),\n",
       " 'mean_score_time': array([0.00273771, 0.00549142, 0.00096991, 0.00429454, 0.00430024,\n",
       "        0.00478005, 0.00208371, 0.00474763, 0.00183222, 0.00612695,\n",
       "        0.00134382, 0.00557575, 0.00049965, 0.00515387]),\n",
       " 'std_score_time': array([0.00155597, 0.00181887, 0.00172311, 0.00141685, 0.00515729,\n",
       "        0.00124093, 0.00163327, 0.00202608, 0.00198776, 0.00694226,\n",
       "        0.00155198, 0.00318554, 0.00120418, 0.00196199]),\n",
       " 'param_C': masked_array(data=[6, 6, 7, 7, 8, 8, 9, 9, 10, 10, 11, 11, 12, 12],\n",
       "              mask=[False, False, False, False, False, False, False, False,\n",
       "                    False, False, False, False, False, False],\n",
       "        fill_value='?',\n",
       "             dtype=object),\n",
       " 'param_kernel': masked_array(data=['linear', 'rbf', 'linear', 'rbf', 'linear', 'rbf',\n",
       "                    'linear', 'rbf', 'linear', 'rbf', 'linear', 'rbf',\n",
       "                    'linear', 'rbf'],\n",
       "              mask=[False, False, False, False, False, False, False, False,\n",
       "                    False, False, False, False, False, False],\n",
       "        fill_value='?',\n",
       "             dtype=object),\n",
       " 'params': [{'C': 6, 'kernel': 'linear'},\n",
       "  {'C': 6, 'kernel': 'rbf'},\n",
       "  {'C': 7, 'kernel': 'linear'},\n",
       "  {'C': 7, 'kernel': 'rbf'},\n",
       "  {'C': 8, 'kernel': 'linear'},\n",
       "  {'C': 8, 'kernel': 'rbf'},\n",
       "  {'C': 9, 'kernel': 'linear'},\n",
       "  {'C': 9, 'kernel': 'rbf'},\n",
       "  {'C': 10, 'kernel': 'linear'},\n",
       "  {'C': 10, 'kernel': 'rbf'},\n",
       "  {'C': 11, 'kernel': 'linear'},\n",
       "  {'C': 11, 'kernel': 'rbf'},\n",
       "  {'C': 12, 'kernel': 'linear'},\n",
       "  {'C': 12, 'kernel': 'rbf'}],\n",
       " 'split0_test_score': array([0.95121951, 0.63414634, 0.95121951, 0.63414634, 0.95121951,\n",
       "        0.63414634, 0.95121951, 0.63414634, 0.95121951, 0.63414634,\n",
       "        0.95121951, 0.63414634, 0.95121951, 0.63414634]),\n",
       " 'split1_test_score': array([0.95, 0.65, 0.95, 0.65, 0.95, 0.65, 0.95, 0.65, 0.95, 0.65, 0.95,\n",
       "        0.65, 0.95, 0.65]),\n",
       " 'split2_test_score': array([1.   , 0.65 , 1.   , 0.65 , 0.975, 0.65 , 0.975, 0.65 , 1.   ,\n",
       "        0.65 , 1.   , 0.65 , 0.975, 0.65 ]),\n",
       " 'split3_test_score': array([0.925, 0.65 , 0.925, 0.65 , 0.95 , 0.65 , 0.925, 0.65 , 0.925,\n",
       "        0.65 , 0.95 , 0.65 , 0.95 , 0.65 ]),\n",
       " 'split4_test_score': array([0.95 , 0.65 , 0.95 , 0.65 , 0.95 , 0.65 , 0.95 , 0.65 , 0.95 ,\n",
       "        0.65 , 0.95 , 0.65 , 0.975, 0.65 ]),\n",
       " 'split5_test_score': array([0.95, 0.65, 0.95, 0.65, 0.95, 0.65, 0.95, 0.65, 0.95, 0.65, 0.95,\n",
       "        0.65, 0.95, 0.65]),\n",
       " 'split6_test_score': array([0.975, 0.65 , 0.975, 0.65 , 0.975, 0.65 , 0.975, 0.65 , 0.975,\n",
       "        0.65 , 0.975, 0.65 , 0.975, 0.65 ]),\n",
       " 'split7_test_score': array([0.97435897, 0.64102564, 0.97435897, 0.64102564, 0.97435897,\n",
       "        0.64102564, 0.94871795, 0.64102564, 0.97435897, 0.64102564,\n",
       "        0.97435897, 0.64102564, 0.97435897, 0.64102564]),\n",
       " 'split8_test_score': array([0.94871795, 0.64102564, 0.94871795, 0.64102564, 0.94871795,\n",
       "        0.64102564, 0.97435897, 0.64102564, 0.97435897, 0.64102564,\n",
       "        0.97435897, 0.64102564, 0.94871795, 0.64102564]),\n",
       " 'split9_test_score': array([0.94871795, 0.64102564, 0.94871795, 0.64102564, 0.94871795,\n",
       "        0.64102564, 0.94871795, 0.64102564, 0.94871795, 0.64102564,\n",
       "        0.94871795, 0.64102564, 0.94871795, 0.64102564]),\n",
       " 'mean_test_score': array([0.95728643, 0.64572864, 0.95728643, 0.64572864, 0.95728643,\n",
       "        0.64572864, 0.95477387, 0.64572864, 0.95979899, 0.64572864,\n",
       "        0.96231156, 0.64572864, 0.95979899, 0.64572864]),\n",
       " 'std_test_score': array([0.01955533, 0.00559672, 0.01955533, 0.00559672, 0.01145228,\n",
       "        0.00559672, 0.01497568, 0.00559672, 0.01993652, 0.00559672,\n",
       "        0.01670619, 0.00559672, 0.01228985, 0.00559672]),\n",
       " 'rank_test_score': array([4, 8, 4, 8, 4, 8, 7, 8, 2, 8, 1, 8, 2, 8]),\n",
       " 'split0_train_score': array([0.96078431, 1.        , 0.96078431, 1.        , 0.96358543,\n",
       "        1.        , 0.95798319, 1.        , 0.96078431, 1.        ,\n",
       "        0.95798319, 1.        , 0.95798319, 1.        ]),\n",
       " 'split1_train_score': array([0.96648045, 1.        , 0.96368715, 1.        , 0.96368715,\n",
       "        1.        , 0.96648045, 1.        , 0.96648045, 1.        ,\n",
       "        0.96927374, 1.        , 0.97206704, 1.        ]),\n",
       " 'split2_train_score': array([0.96368715, 1.        , 0.95530726, 1.        , 0.95810056,\n",
       "        1.        , 0.95810056, 1.        , 0.95810056, 1.        ,\n",
       "        0.95810056, 1.        , 0.96089385, 1.        ]),\n",
       " 'split3_train_score': array([0.97486034, 1.        , 0.97765363, 1.        , 0.97206704,\n",
       "        1.        , 0.97486034, 1.        , 0.97206704, 1.        ,\n",
       "        0.97206704, 1.        , 0.97206704, 1.        ]),\n",
       " 'split4_train_score': array([0.96927374, 1.        , 0.96368715, 1.        , 0.96368715,\n",
       "        1.        , 0.96368715, 1.        , 0.96648045, 1.        ,\n",
       "        0.96648045, 1.        , 0.96648045, 1.        ]),\n",
       " 'split5_train_score': array([0.97486034, 1.        , 0.97206704, 1.        , 0.97206704,\n",
       "        1.        , 0.97206704, 1.        , 0.97206704, 1.        ,\n",
       "        0.97206704, 1.        , 0.96927374, 1.        ]),\n",
       " 'split6_train_score': array([0.96368715, 1.        , 0.96368715, 1.        , 0.95810056,\n",
       "        1.        , 0.95810056, 1.        , 0.95810056, 1.        ,\n",
       "        0.95810056, 1.        , 0.95810056, 1.        ]),\n",
       " 'split7_train_score': array([0.97214485, 1.        , 0.97493036, 1.        , 0.97214485,\n",
       "        1.        , 0.96657382, 1.        , 0.96935933, 1.        ,\n",
       "        0.96935933, 1.        , 0.97771588, 1.        ]),\n",
       " 'split8_train_score': array([0.97493036, 1.        , 0.97493036, 1.        , 0.96935933,\n",
       "        1.        , 0.96657382, 1.        , 0.96935933, 1.        ,\n",
       "        0.96935933, 1.        , 0.97214485, 1.        ]),\n",
       " 'split9_train_score': array([0.96935933, 1.        , 0.9637883 , 1.        , 0.9637883 ,\n",
       "        1.        , 0.9637883 , 1.        , 0.96657382, 1.        ,\n",
       "        0.96657382, 1.        , 0.96657382, 1.        ]),\n",
       " 'mean_train_score': array([0.9690068 , 1.        , 0.96705227, 1.        , 0.96565874,\n",
       "        1.        , 0.96482152, 1.        , 0.96593729, 1.        ,\n",
       "        0.96593651, 1.        , 0.96733004, 1.        ]),\n",
       " 'std_train_score': array([0.00494215, 0.        , 0.00695359, 0.        , 0.00517417,\n",
       "        0.        , 0.00549207, 0.        , 0.00498944, 0.        ,\n",
       "        0.00544515, 0.        , 0.00628466, 0.        ])}"
      ]
     },
     "execution_count": 26,
     "metadata": {},
     "output_type": "execute_result"
    }
   ],
   "source": [
    "model1.cv_results_"
   ]
  },
  {
   "cell_type": "code",
   "execution_count": 25,
   "metadata": {},
   "outputs": [],
   "source": [
    "sensitivity = 59/63\n",
    "# sensitivity should be higher for a good model."
   ]
  },
  {
   "cell_type": "code",
   "execution_count": 0,
   "metadata": {
    "colab": {},
    "colab_type": "code",
    "id": "fjpeF9YfZpC8"
   },
   "outputs": [],
   "source": [
    "#Suggesting Default hyper parameter for KNN"
   ]
  }
 ],
 "metadata": {
  "colab": {
   "collapsed_sections": [],
   "name": "GridSearchCV_compare_models.ipynb",
   "provenance": [],
   "version": "0.3.2"
  },
  "kernelspec": {
   "display_name": "Python 3",
   "language": "python",
   "name": "python3"
  },
  "language_info": {
   "codemirror_mode": {
    "name": "ipython",
    "version": 3
   },
   "file_extension": ".py",
   "mimetype": "text/x-python",
   "name": "python",
   "nbconvert_exporter": "python",
   "pygments_lexer": "ipython3",
   "version": "3.7.1"
  }
 },
 "nbformat": 4,
 "nbformat_minor": 1
}
