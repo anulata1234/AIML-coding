{
 "cells": [
  {
   "cell_type": "code",
   "execution_count": 0,
   "metadata": {
    "colab": {},
    "colab_type": "code",
    "id": "ndkh2Byfi7GK"
   },
   "outputs": [],
   "source": [
    "from pandas import read_csv\n",
    "from sklearn.utils import resample\n",
    "from sklearn.tree import DecisionTreeClassifier\n",
    "from sklearn.metrics import accuracy_score\n",
    "from matplotlib import pyplot\n",
    "import numpy as np\n",
    "\n"
   ]
  },
  {
   "cell_type": "code",
   "execution_count": 2,
   "metadata": {
    "colab": {
     "base_uri": "https://localhost:8080/",
     "height": 129
    },
    "colab_type": "code",
    "executionInfo": {
     "elapsed": 44748,
     "status": "ok",
     "timestamp": 1558830716013,
     "user": {
      "displayName": "Mahesh Anand",
      "photoUrl": "https://lh3.googleusercontent.com/-qzo_AFAl02k/AAAAAAAAAAI/AAAAAAAAABY/Ywj2vXZmRw4/s64/photo.jpg",
      "userId": "06788086636039591358"
     },
     "user_tz": -330
    },
    "id": "bFhrcvz3i9rQ",
    "outputId": "04efb55f-1b77-4142-db1a-4cfd9b148c38"
   },
   "outputs": [
    {
     "name": "stdout",
     "output_type": "stream",
     "text": [
      "Go to this URL in a browser: https://accounts.google.com/o/oauth2/auth?client_id=947318989803-6bn6qk8qdgf4n4g3pfee6491hc0brc4i.apps.googleusercontent.com&redirect_uri=urn%3Aietf%3Awg%3Aoauth%3A2.0%3Aoob&scope=email%20https%3A%2F%2Fwww.googleapis.com%2Fauth%2Fdocs.test%20https%3A%2F%2Fwww.googleapis.com%2Fauth%2Fdrive%20https%3A%2F%2Fwww.googleapis.com%2Fauth%2Fdrive.photos.readonly%20https%3A%2F%2Fwww.googleapis.com%2Fauth%2Fpeopleapi.readonly&response_type=code\n",
      "\n",
      "Enter your authorization code:\n",
      "··········\n",
      "Mounted at /content/drive\n"
     ]
    }
   ],
   "source": [
    "from google.colab import drive\n",
    "drive.mount('/content/drive')"
   ]
  },
  {
   "cell_type": "code",
   "execution_count": 0,
   "metadata": {
    "colab": {},
    "colab_type": "code",
    "id": "huCDQJQOjCjK"
   },
   "outputs": [],
   "source": [
    "# load dataset\n",
    "data = read_csv('/content/drive/My Drive/pima-indians-diabetes.data', header=None)\n",
    "values = data.values\n"
   ]
  },
  {
   "cell_type": "code",
   "execution_count": 4,
   "metadata": {
    "colab": {
     "base_uri": "https://localhost:8080/",
     "height": 3690
    },
    "colab_type": "code",
    "executionInfo": {
     "elapsed": 17427,
     "status": "ok",
     "timestamp": 1558830807811,
     "user": {
      "displayName": "Mahesh Anand",
      "photoUrl": "https://lh3.googleusercontent.com/-qzo_AFAl02k/AAAAAAAAAAI/AAAAAAAAABY/Ywj2vXZmRw4/s64/photo.jpg",
      "userId": "06788086636039591358"
     },
     "user_tz": -330
    },
    "id": "8E0gTHK8i7Gj",
    "outputId": "0559acb3-f4cb-49b5-e58f-18a2f387663a"
   },
   "outputs": [
    {
     "name": "stdout",
     "output_type": "stream",
     "text": [
      "0.6431623931623932\n",
      "0.6923076923076923\n",
      "0.6738197424892703\n",
      "0.6888412017167382\n",
      "0.6864035087719298\n",
      "0.6794055201698513\n",
      "0.6858974358974359\n",
      "0.6796536796536796\n",
      "0.6840958605664488\n",
      "0.6313559322033898\n",
      "0.6629955947136564\n",
      "0.7067833698030634\n",
      "0.7019027484143763\n",
      "0.6853448275862069\n",
      "0.6765327695560254\n",
      "0.6901709401709402\n",
      "0.6811279826464208\n",
      "0.6896551724137931\n",
      "0.6986899563318777\n",
      "0.6818181818181818\n",
      "0.7034632034632035\n",
      "0.6593886462882096\n",
      "0.6858974358974359\n",
      "0.7329059829059829\n",
      "0.7085106382978723\n",
      "0.648590021691974\n",
      "0.6919739696312365\n",
      "0.7068965517241379\n",
      "0.694560669456067\n",
      "0.6416309012875536\n",
      "0.6408602150537634\n",
      "0.6865671641791045\n",
      "0.7157894736842105\n",
      "0.6589473684210526\n",
      "0.6798245614035088\n",
      "0.6843267108167771\n",
      "0.6724137931034483\n",
      "0.7282377919320594\n",
      "0.7060085836909872\n",
      "0.7103004291845494\n",
      "0.7130801687763713\n",
      "0.6968421052631579\n",
      "0.7155361050328227\n",
      "0.6560509554140127\n",
      "0.6593406593406593\n",
      "0.7313432835820896\n",
      "0.6846652267818575\n",
      "0.7114093959731543\n",
      "0.7002141327623126\n",
      "0.6896551724137931\n",
      "0.7303609341825902\n",
      "0.7136842105263158\n",
      "0.671578947368421\n",
      "0.7084233261339092\n",
      "0.6763392857142857\n",
      "0.6587473002159827\n",
      "0.6754385964912281\n",
      "0.6825053995680346\n",
      "0.6695278969957081\n",
      "0.6809421841541756\n",
      "0.6987179487179487\n",
      "0.6979166666666666\n",
      "0.6827731092436975\n",
      "0.7037037037037037\n",
      "0.6645021645021645\n",
      "0.6587982832618026\n",
      "0.6939655172413793\n",
      "0.6630669546436285\n",
      "0.7115384615384616\n",
      "0.7262931034482759\n",
      "0.6348195329087049\n",
      "0.687089715536105\n",
      "0.6934782608695652\n",
      "0.7101769911504425\n",
      "0.706140350877193\n",
      "0.6574468085106383\n",
      "0.7025316455696202\n",
      "0.6600441501103753\n",
      "0.721627408993576\n",
      "0.7158119658119658\n",
      "0.6873661670235546\n",
      "0.7217391304347827\n",
      "0.6774891774891775\n",
      "0.6709129511677282\n",
      "0.6743697478991597\n",
      "0.6832971800433839\n",
      "0.6932773109243697\n",
      "0.652452025586354\n",
      "0.734475374732334\n",
      "0.7145922746781116\n",
      "0.6529284164859002\n",
      "0.6976744186046512\n",
      "0.6957446808510638\n",
      "0.6782608695652174\n",
      "0.703862660944206\n",
      "0.6858407079646017\n",
      "0.7352941176470589\n",
      "0.7097457627118644\n",
      "0.7200854700854701\n",
      "0.690677966101695\n",
      "0.7037037037037037\n",
      "0.697286012526096\n",
      "0.6773504273504274\n",
      "0.6944444444444444\n",
      "0.6954643628509719\n",
      "0.6809421841541756\n",
      "0.6809421841541756\n",
      "0.6601731601731602\n",
      "0.6984815618221258\n",
      "0.7006369426751592\n",
      "0.6462882096069869\n",
      "0.702355460385439\n",
      "0.6777546777546778\n",
      "0.6918103448275862\n",
      "0.7161290322580646\n",
      "0.6710239651416122\n",
      "0.6779661016949152\n",
      "0.6869565217391305\n",
      "0.6989247311827957\n",
      "0.6615720524017468\n",
      "0.6754385964912281\n",
      "0.7521186440677966\n",
      "0.684322033898305\n",
      "0.6687763713080169\n",
      "0.6680672268907563\n",
      "0.6924731182795699\n",
      "0.6943231441048034\n",
      "0.7049891540130152\n",
      "0.7053763440860215\n",
      "0.7152173913043478\n",
      "0.7033195020746889\n",
      "0.7097457627118644\n",
      "0.6916488222698073\n",
      "0.7257383966244726\n",
      "0.6789587852494577\n",
      "0.6817204301075269\n",
      "0.6758474576271186\n",
      "0.6645299145299145\n",
      "0.683982683982684\n",
      "0.7004310344827587\n",
      "0.6858974358974359\n",
      "0.6760259179265659\n",
      "0.6923076923076923\n",
      "0.7068965517241379\n",
      "0.6853448275862069\n",
      "0.6805251641137856\n",
      "0.6909871244635193\n",
      "0.6680851063829787\n",
      "0.6978723404255319\n",
      "0.6645021645021645\n",
      "0.6781115879828327\n",
      "0.6666666666666666\n",
      "0.7158590308370044\n",
      "0.7249466950959488\n",
      "0.6911447084233261\n",
      "0.6868250539956804\n",
      "0.7040169133192389\n",
      "0.6817204301075269\n",
      "0.6451612903225806\n",
      "0.7298474945533769\n",
      "0.6588486140724946\n",
      "0.7056179775280899\n",
      "0.7043478260869566\n",
      "0.6944444444444444\n",
      "0.6751054852320675\n",
      "0.7118279569892473\n",
      "0.6316916488222698\n",
      "0.6520833333333333\n",
      "0.6993603411513859\n",
      "0.6587982832618026\n",
      "0.6617336152219874\n",
      "0.6801705756929638\n",
      "0.6944444444444444\n",
      "0.6888412017167382\n",
      "0.6903225806451613\n",
      "0.6818181818181818\n",
      "0.6926406926406926\n",
      "0.7052631578947368\n",
      "0.6780383795309168\n",
      "0.6801705756929638\n",
      "0.7051282051282052\n",
      "0.7124183006535948\n",
      "0.6617336152219874\n",
      "0.6851063829787234\n",
      "0.7033898305084746\n",
      "0.6991525423728814\n",
      "0.6772823779193206\n",
      "0.6751054852320675\n",
      "0.6496815286624203\n",
      "0.708779443254818\n",
      "0.6645569620253164\n",
      "0.645021645021645\n",
      "0.7167381974248928\n",
      "0.6974248927038627\n",
      "0.7060085836909872\n",
      "0.7320675105485233\n",
      "0.6928104575163399\n",
      "0.6895074946466809\n",
      "0.6344086021505376\n",
      "0.6637744034707158\n"
     ]
    }
   ],
   "source": [
    "# configure bootstrap\n",
    "n_iterations = 200        # Number of bootstrap samples to create\n",
    "n_size = int(len(data) * 0.50)    # picking only 50 % of the given data in every bootstrap sample\n",
    "\n",
    "# run bootstrap\n",
    "stats = list()\n",
    "for i in range(n_iterations):\n",
    "\t# prepare train and test sets\n",
    "\ttrain = resample(values, n_samples=n_size)  # Sampling with replacement \n",
    "\ttest = np.array([x for x in values if x.tolist() not in train.tolist()])  # picking rest of the data not considered in sample\n",
    "    # fit model\n",
    "\tmodel = DecisionTreeClassifier()\n",
    "\tmodel.fit(train[:,:-1], train[:,-1])\n",
    "    # evaluate model\n",
    "\tpredictions = model.predict(test[:,:-1])\n",
    "\tscore = accuracy_score(test[:,-1], predictions)    # caution, overall accuracy score can mislead when classes are imbalanced\n",
    "\tprint(score)\n",
    "\tstats.append(score)\n"
   ]
  },
  {
   "cell_type": "code",
   "execution_count": 5,
   "metadata": {
    "colab": {
     "base_uri": "https://localhost:8080/",
     "height": 35
    },
    "colab_type": "code",
    "executionInfo": {
     "elapsed": 1031,
     "status": "ok",
     "timestamp": 1558830877276,
     "user": {
      "displayName": "Mahesh Anand",
      "photoUrl": "https://lh3.googleusercontent.com/-qzo_AFAl02k/AAAAAAAAAAI/AAAAAAAAABY/Ywj2vXZmRw4/s64/photo.jpg",
      "userId": "06788086636039591358"
     },
     "user_tz": -330
    },
    "id": "-2GP3Kx7j2kR",
    "outputId": "32294778-c9f2-4b21-d125-42dd45edf56b"
   },
   "outputs": [
    {
     "data": {
      "text/plain": [
       "2.500000000000002"
      ]
     },
     "execution_count": 5,
     "metadata": {
      "tags": []
     },
     "output_type": "execute_result"
    }
   ],
   "source": [
    "alpha = 0.95                             # for 95% confidence \n",
    "p = ((1.0-alpha)/2.0) * 100 \n",
    "p"
   ]
  },
  {
   "cell_type": "code",
   "execution_count": 8,
   "metadata": {
    "colab": {
     "base_uri": "https://localhost:8080/",
     "height": 35
    },
    "colab_type": "code",
    "executionInfo": {
     "elapsed": 940,
     "status": "ok",
     "timestamp": 1558831021609,
     "user": {
      "displayName": "Mahesh Anand",
      "photoUrl": "https://lh3.googleusercontent.com/-qzo_AFAl02k/AAAAAAAAAAI/AAAAAAAAABY/Ywj2vXZmRw4/s64/photo.jpg",
      "userId": "06788086636039591358"
     },
     "user_tz": -330
    },
    "id": "wgN-XnP9kG0t",
    "outputId": "7e86b165-419c-4862-8783-68cfeee493e2"
   },
   "outputs": [
    {
     "data": {
      "text/plain": [
       "0.641611634131709"
      ]
     },
     "execution_count": 8,
     "metadata": {
      "tags": []
     },
     "output_type": "execute_result"
    }
   ],
   "source": [
    "lower = max(0.0, np.percentile(stats, p)) \n",
    "lower"
   ]
  },
  {
   "cell_type": "code",
   "execution_count": 9,
   "metadata": {
    "colab": {
     "base_uri": "https://localhost:8080/",
     "height": 35
    },
    "colab_type": "code",
    "executionInfo": {
     "elapsed": 1092,
     "status": "ok",
     "timestamp": 1558831057430,
     "user": {
      "displayName": "Mahesh Anand",
      "photoUrl": "https://lh3.googleusercontent.com/-qzo_AFAl02k/AAAAAAAAAAI/AAAAAAAAABY/Ywj2vXZmRw4/s64/photo.jpg",
      "userId": "06788086636039591358"
     },
     "user_tz": -330
    },
    "id": "2tdsT9lakjNx",
    "outputId": "7f615217-a59a-4bef-8e31-3dcb50af3c94"
   },
   "outputs": [
    {
     "data": {
      "text/plain": [
       "97.5"
      ]
     },
     "execution_count": 9,
     "metadata": {
      "tags": []
     },
     "output_type": "execute_result"
    }
   ],
   "source": [
    "p = (alpha+((1.0-alpha)/2.0)) * 100\n",
    "p"
   ]
  },
  {
   "cell_type": "code",
   "execution_count": 11,
   "metadata": {
    "colab": {
     "base_uri": "https://localhost:8080/",
     "height": 287
    },
    "colab_type": "code",
    "executionInfo": {
     "elapsed": 991,
     "status": "ok",
     "timestamp": 1558831193836,
     "user": {
      "displayName": "Mahesh Anand",
      "photoUrl": "https://lh3.googleusercontent.com/-qzo_AFAl02k/AAAAAAAAAAI/AAAAAAAAABY/Ywj2vXZmRw4/s64/photo.jpg",
      "userId": "06788086636039591358"
     },
     "user_tz": -330
    },
    "id": "rMX2nsJ6i7G2",
    "outputId": "52acac44-3f8c-409e-9c54-6993e41316da"
   },
   "outputs": [
    {
     "data": {
      "image/png": "[encoded data removed]",
      "text/plain": [
       "<Figure size 432x288 with 1 Axes>"
      ]
     },
     "metadata": {
      "tags": []
     },
     "output_type": "display_data"
    },
    {
     "name": "stdout",
     "output_type": "stream",
     "text": [
      "99.0 confidence interval 63.2% and 73.5%\n"
     ]
    }
   ],
   "source": [
    "# plot scores\n",
    "pyplot.hist(stats)\n",
    "pyplot.show()\n",
    "# confidence intervals\n",
    "alpha = 0.99                             # for 95% confidence \n",
    "p = ((1.0-alpha)/2.0) * 100              # tail regions on right and left .25 on each side indicated by P value (border)\n",
    "lower = max(0.0, np.percentile(stats, p))  \n",
    "p = (alpha+((1.0-alpha)/2.0)) * 100\n",
    "upper = min(1.0, np.percentile(stats, p))\n",
    "print('%.1f confidence interval %.1f%% and %.1f%%' % (alpha*100, lower*100, upper*100))"
   ]
  },
  {
   "cell_type": "code",
   "execution_count": 0,
   "metadata": {
    "colab": {},
    "colab_type": "code",
    "id": "T25k7TmHi7HH"
   },
   "outputs": [],
   "source": []
  },
  {
   "cell_type": "code",
   "execution_count": 0,
   "metadata": {
    "colab": {},
    "colab_type": "code",
    "id": "srmziOuBi7HP"
   },
   "outputs": [],
   "source": []
  },
  {
   "cell_type": "code",
   "execution_count": 0,
   "metadata": {
    "colab": {},
    "colab_type": "code",
    "id": "LF33idx4i7HY"
   },
   "outputs": [],
   "source": []
  }
 ],
 "metadata": {
  "colab": {
   "collapsed_sections": [],
   "name": "Bootstrapping_Confidence_Level.ipynb",
   "provenance": [],
   "version": "0.3.2"
  },
  "kernelspec": {
   "display_name": "Python 3",
   "language": "python",
   "name": "python3"
  },
  "language_info": {
   "codemirror_mode": {
    "name": "ipython",
    "version": 3
   },
   "file_extension": ".py",
   "mimetype": "text/x-python",
   "name": "python",
   "nbconvert_exporter": "python",
   "pygments_lexer": "ipython3",
   "version": "3.7.1"
  }
 },
 "nbformat": 4,
 "nbformat_minor": 1
}
